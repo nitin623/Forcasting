{
 "cells": [
  {
   "cell_type": "code",
   "execution_count": 1,
   "id": "c4379fe2",
   "metadata": {},
   "outputs": [],
   "source": [
    "import pandas as pd\n",
    "import numpy as np\n",
    "import matplotlib.pyplot as plt"
   ]
  },
  {
   "cell_type": "code",
   "execution_count": 2,
   "id": "8189f84f",
   "metadata": {},
   "outputs": [],
   "source": [
    "df_rose=pd.read_csv(\"F:\\\\Rose (1).csv\")"
   ]
  },
  {
   "cell_type": "code",
   "execution_count": 3,
   "id": "6371bd96",
   "metadata": {
    "scrolled": true
   },
   "outputs": [
    {
     "data": {
      "text/html": [
       "<div>\n",
       "<style scoped>\n",
       "    .dataframe tbody tr th:only-of-type {\n",
       "        vertical-align: middle;\n",
       "    }\n",
       "\n",
       "    .dataframe tbody tr th {\n",
       "        vertical-align: top;\n",
       "    }\n",
       "\n",
       "    .dataframe thead th {\n",
       "        text-align: right;\n",
       "    }\n",
       "</style>\n",
       "<table border=\"1\" class=\"dataframe\">\n",
       "  <thead>\n",
       "    <tr style=\"text-align: right;\">\n",
       "      <th></th>\n",
       "      <th>YearMonth</th>\n",
       "      <th>Rose</th>\n",
       "    </tr>\n",
       "  </thead>\n",
       "  <tbody>\n",
       "    <tr>\n",
       "      <th>0</th>\n",
       "      <td>1980-01</td>\n",
       "      <td>112.0</td>\n",
       "    </tr>\n",
       "    <tr>\n",
       "      <th>1</th>\n",
       "      <td>1980-02</td>\n",
       "      <td>118.0</td>\n",
       "    </tr>\n",
       "    <tr>\n",
       "      <th>2</th>\n",
       "      <td>1980-03</td>\n",
       "      <td>129.0</td>\n",
       "    </tr>\n",
       "    <tr>\n",
       "      <th>3</th>\n",
       "      <td>1980-04</td>\n",
       "      <td>99.0</td>\n",
       "    </tr>\n",
       "    <tr>\n",
       "      <th>4</th>\n",
       "      <td>1980-05</td>\n",
       "      <td>116.0</td>\n",
       "    </tr>\n",
       "    <tr>\n",
       "      <th>...</th>\n",
       "      <td>...</td>\n",
       "      <td>...</td>\n",
       "    </tr>\n",
       "    <tr>\n",
       "      <th>182</th>\n",
       "      <td>1995-03</td>\n",
       "      <td>45.0</td>\n",
       "    </tr>\n",
       "    <tr>\n",
       "      <th>183</th>\n",
       "      <td>1995-04</td>\n",
       "      <td>52.0</td>\n",
       "    </tr>\n",
       "    <tr>\n",
       "      <th>184</th>\n",
       "      <td>1995-05</td>\n",
       "      <td>28.0</td>\n",
       "    </tr>\n",
       "    <tr>\n",
       "      <th>185</th>\n",
       "      <td>1995-06</td>\n",
       "      <td>40.0</td>\n",
       "    </tr>\n",
       "    <tr>\n",
       "      <th>186</th>\n",
       "      <td>1995-07</td>\n",
       "      <td>62.0</td>\n",
       "    </tr>\n",
       "  </tbody>\n",
       "</table>\n",
       "<p>187 rows × 2 columns</p>\n",
       "</div>"
      ],
      "text/plain": [
       "    YearMonth   Rose\n",
       "0     1980-01  112.0\n",
       "1     1980-02  118.0\n",
       "2     1980-03  129.0\n",
       "3     1980-04   99.0\n",
       "4     1980-05  116.0\n",
       "..        ...    ...\n",
       "182   1995-03   45.0\n",
       "183   1995-04   52.0\n",
       "184   1995-05   28.0\n",
       "185   1995-06   40.0\n",
       "186   1995-07   62.0\n",
       "\n",
       "[187 rows x 2 columns]"
      ]
     },
     "execution_count": 3,
     "metadata": {},
     "output_type": "execute_result"
    }
   ],
   "source": [
    "df_rose"
   ]
  },
  {
   "cell_type": "code",
   "execution_count": 4,
   "id": "8eb701be",
   "metadata": {},
   "outputs": [
    {
     "name": "stdout",
     "output_type": "stream",
     "text": [
      "<class 'pandas.core.frame.DataFrame'>\n",
      "RangeIndex: 187 entries, 0 to 186\n",
      "Data columns (total 2 columns):\n",
      " #   Column     Non-Null Count  Dtype  \n",
      "---  ------     --------------  -----  \n",
      " 0   YearMonth  187 non-null    object \n",
      " 1   Rose       185 non-null    float64\n",
      "dtypes: float64(1), object(1)\n",
      "memory usage: 3.0+ KB\n"
     ]
    }
   ],
   "source": [
    "df_rose.info()"
   ]
  },
  {
   "cell_type": "code",
   "execution_count": 5,
   "id": "4ae8cb3b",
   "metadata": {},
   "outputs": [
    {
     "data": {
      "text/plain": [
       "YearMonth    0\n",
       "Rose         2\n",
       "dtype: int64"
      ]
     },
     "execution_count": 5,
     "metadata": {},
     "output_type": "execute_result"
    }
   ],
   "source": [
    "df_rose.isna().sum()"
   ]
  },
  {
   "cell_type": "code",
   "execution_count": 6,
   "id": "59a4d8c5",
   "metadata": {
    "scrolled": true
   },
   "outputs": [],
   "source": [
    "df_rose.dropna(inplace=True)"
   ]
  },
  {
   "cell_type": "code",
   "execution_count": 7,
   "id": "6bf135e7",
   "metadata": {
    "scrolled": true
   },
   "outputs": [
    {
     "data": {
      "text/plain": [
       "YearMonth    0\n",
       "Rose         0\n",
       "dtype: int64"
      ]
     },
     "execution_count": 7,
     "metadata": {},
     "output_type": "execute_result"
    }
   ],
   "source": [
    "df_rose.isna().sum()"
   ]
  },
  {
   "cell_type": "code",
   "execution_count": 8,
   "id": "032b2c0d",
   "metadata": {},
   "outputs": [],
   "source": [
    "df_rose['YearMonth'] = pd.to_datetime(df_rose['YearMonth'])"
   ]
  },
  {
   "cell_type": "code",
   "execution_count": 9,
   "id": "c2abb46d",
   "metadata": {},
   "outputs": [
    {
     "name": "stdout",
     "output_type": "stream",
     "text": [
      "<class 'pandas.core.frame.DataFrame'>\n",
      "Int64Index: 185 entries, 0 to 186\n",
      "Data columns (total 2 columns):\n",
      " #   Column     Non-Null Count  Dtype         \n",
      "---  ------     --------------  -----         \n",
      " 0   YearMonth  185 non-null    datetime64[ns]\n",
      " 1   Rose       185 non-null    float64       \n",
      "dtypes: datetime64[ns](1), float64(1)\n",
      "memory usage: 4.3 KB\n"
     ]
    }
   ],
   "source": [
    "df_rose.info()"
   ]
  },
  {
   "cell_type": "code",
   "execution_count": 10,
   "id": "832b6829",
   "metadata": {},
   "outputs": [],
   "source": [
    "df_rose.set_index('YearMonth',inplace=True)"
   ]
  },
  {
   "cell_type": "code",
   "execution_count": 11,
   "id": "1aefa6b0",
   "metadata": {
    "scrolled": true
   },
   "outputs": [
    {
     "data": {
      "text/html": [
       "<div>\n",
       "<style scoped>\n",
       "    .dataframe tbody tr th:only-of-type {\n",
       "        vertical-align: middle;\n",
       "    }\n",
       "\n",
       "    .dataframe tbody tr th {\n",
       "        vertical-align: top;\n",
       "    }\n",
       "\n",
       "    .dataframe thead th {\n",
       "        text-align: right;\n",
       "    }\n",
       "</style>\n",
       "<table border=\"1\" class=\"dataframe\">\n",
       "  <thead>\n",
       "    <tr style=\"text-align: right;\">\n",
       "      <th></th>\n",
       "      <th>Rose</th>\n",
       "    </tr>\n",
       "    <tr>\n",
       "      <th>YearMonth</th>\n",
       "      <th></th>\n",
       "    </tr>\n",
       "  </thead>\n",
       "  <tbody>\n",
       "    <tr>\n",
       "      <th>1980-01-01</th>\n",
       "      <td>112.0</td>\n",
       "    </tr>\n",
       "    <tr>\n",
       "      <th>1980-02-01</th>\n",
       "      <td>118.0</td>\n",
       "    </tr>\n",
       "    <tr>\n",
       "      <th>1980-03-01</th>\n",
       "      <td>129.0</td>\n",
       "    </tr>\n",
       "    <tr>\n",
       "      <th>1980-04-01</th>\n",
       "      <td>99.0</td>\n",
       "    </tr>\n",
       "    <tr>\n",
       "      <th>1980-05-01</th>\n",
       "      <td>116.0</td>\n",
       "    </tr>\n",
       "    <tr>\n",
       "      <th>...</th>\n",
       "      <td>...</td>\n",
       "    </tr>\n",
       "    <tr>\n",
       "      <th>1995-03-01</th>\n",
       "      <td>45.0</td>\n",
       "    </tr>\n",
       "    <tr>\n",
       "      <th>1995-04-01</th>\n",
       "      <td>52.0</td>\n",
       "    </tr>\n",
       "    <tr>\n",
       "      <th>1995-05-01</th>\n",
       "      <td>28.0</td>\n",
       "    </tr>\n",
       "    <tr>\n",
       "      <th>1995-06-01</th>\n",
       "      <td>40.0</td>\n",
       "    </tr>\n",
       "    <tr>\n",
       "      <th>1995-07-01</th>\n",
       "      <td>62.0</td>\n",
       "    </tr>\n",
       "  </tbody>\n",
       "</table>\n",
       "<p>185 rows × 1 columns</p>\n",
       "</div>"
      ],
      "text/plain": [
       "             Rose\n",
       "YearMonth        \n",
       "1980-01-01  112.0\n",
       "1980-02-01  118.0\n",
       "1980-03-01  129.0\n",
       "1980-04-01   99.0\n",
       "1980-05-01  116.0\n",
       "...           ...\n",
       "1995-03-01   45.0\n",
       "1995-04-01   52.0\n",
       "1995-05-01   28.0\n",
       "1995-06-01   40.0\n",
       "1995-07-01   62.0\n",
       "\n",
       "[185 rows x 1 columns]"
      ]
     },
     "execution_count": 11,
     "metadata": {},
     "output_type": "execute_result"
    }
   ],
   "source": [
    "df_rose"
   ]
  },
  {
   "cell_type": "code",
   "execution_count": 12,
   "id": "217a2115",
   "metadata": {
    "scrolled": true
   },
   "outputs": [
    {
     "data": {
      "text/plain": [
       "<AxesSubplot:xlabel='YearMonth'>"
      ]
     },
     "execution_count": 12,
     "metadata": {},
     "output_type": "execute_result"
    },
    {
     "data": {
      "image/png": "[encoded data removed]",
      "text/plain": [
       "<Figure size 640x480 with 1 Axes>"
      ]
     },
     "metadata": {},
     "output_type": "display_data"
    }
   ],
   "source": [
    "df_rose.plot()"
   ]
  },
  {
   "cell_type": "code",
   "execution_count": 13,
   "id": "59409255",
   "metadata": {},
   "outputs": [],
   "source": [
    "from statsmodels.tsa.stattools import adfuller"
   ]
  },
  {
   "cell_type": "code",
   "execution_count": 14,
   "id": "d628fd77",
   "metadata": {},
   "outputs": [],
   "source": [
    "def test_adfuller(sales):\n",
    "    result  = adfuller(sales)\n",
    "    print('ADF statistics: {}'.format(result[0]))\n",
    "    print('p-value: {}'.format(result[1]))\n",
    "    if result[1]<=0.05:\n",
    "        print('data is stationary')\n",
    "    else:\n",
    "        print('data is not stationary')"
   ]
  },
  {
   "cell_type": "code",
   "execution_count": 15,
   "id": "67d773ee",
   "metadata": {},
   "outputs": [
    {
     "name": "stdout",
     "output_type": "stream",
     "text": [
      "ADF statistics: -1.8380327966021965\n",
      "p-value: 0.3617495457657554\n",
      "data is not stationary\n"
     ]
    }
   ],
   "source": [
    "test_adfuller(df_rose)"
   ]
  },
  {
   "cell_type": "code",
   "execution_count": 16,
   "id": "6c66fceb",
   "metadata": {},
   "outputs": [],
   "source": [
    "df_rose['rose difference'] = df_rose['Rose']-df_rose['Rose'].shift(1)"
   ]
  },
  {
   "cell_type": "code",
   "execution_count": 17,
   "id": "f9160418",
   "metadata": {},
   "outputs": [
    {
     "name": "stdout",
     "output_type": "stream",
     "text": [
      "ADF statistics: -8.167161332563701\n",
      "p-value: 8.819857658212933e-13\n",
      "data is stationary\n"
     ]
    }
   ],
   "source": [
    "test_adfuller(df_rose['rose difference'].dropna())"
   ]
  },
  {
   "cell_type": "code",
   "execution_count": 18,
   "id": "4258350b",
   "metadata": {
    "scrolled": true
   },
   "outputs": [
    {
     "data": {
      "text/html": [
       "<div>\n",
       "<style scoped>\n",
       "    .dataframe tbody tr th:only-of-type {\n",
       "        vertical-align: middle;\n",
       "    }\n",
       "\n",
       "    .dataframe tbody tr th {\n",
       "        vertical-align: top;\n",
       "    }\n",
       "\n",
       "    .dataframe thead th {\n",
       "        text-align: right;\n",
       "    }\n",
       "</style>\n",
       "<table border=\"1\" class=\"dataframe\">\n",
       "  <thead>\n",
       "    <tr style=\"text-align: right;\">\n",
       "      <th></th>\n",
       "      <th>Rose</th>\n",
       "      <th>rose difference</th>\n",
       "    </tr>\n",
       "    <tr>\n",
       "      <th>YearMonth</th>\n",
       "      <th></th>\n",
       "      <th></th>\n",
       "    </tr>\n",
       "  </thead>\n",
       "  <tbody>\n",
       "    <tr>\n",
       "      <th>1980-01-01</th>\n",
       "      <td>112.0</td>\n",
       "      <td>NaN</td>\n",
       "    </tr>\n",
       "    <tr>\n",
       "      <th>1980-02-01</th>\n",
       "      <td>118.0</td>\n",
       "      <td>6.0</td>\n",
       "    </tr>\n",
       "    <tr>\n",
       "      <th>1980-03-01</th>\n",
       "      <td>129.0</td>\n",
       "      <td>11.0</td>\n",
       "    </tr>\n",
       "    <tr>\n",
       "      <th>1980-04-01</th>\n",
       "      <td>99.0</td>\n",
       "      <td>-30.0</td>\n",
       "    </tr>\n",
       "    <tr>\n",
       "      <th>1980-05-01</th>\n",
       "      <td>116.0</td>\n",
       "      <td>17.0</td>\n",
       "    </tr>\n",
       "    <tr>\n",
       "      <th>...</th>\n",
       "      <td>...</td>\n",
       "      <td>...</td>\n",
       "    </tr>\n",
       "    <tr>\n",
       "      <th>1995-03-01</th>\n",
       "      <td>45.0</td>\n",
       "      <td>6.0</td>\n",
       "    </tr>\n",
       "    <tr>\n",
       "      <th>1995-04-01</th>\n",
       "      <td>52.0</td>\n",
       "      <td>7.0</td>\n",
       "    </tr>\n",
       "    <tr>\n",
       "      <th>1995-05-01</th>\n",
       "      <td>28.0</td>\n",
       "      <td>-24.0</td>\n",
       "    </tr>\n",
       "    <tr>\n",
       "      <th>1995-06-01</th>\n",
       "      <td>40.0</td>\n",
       "      <td>12.0</td>\n",
       "    </tr>\n",
       "    <tr>\n",
       "      <th>1995-07-01</th>\n",
       "      <td>62.0</td>\n",
       "      <td>22.0</td>\n",
       "    </tr>\n",
       "  </tbody>\n",
       "</table>\n",
       "<p>185 rows × 2 columns</p>\n",
       "</div>"
      ],
      "text/plain": [
       "             Rose  rose difference\n",
       "YearMonth                         \n",
       "1980-01-01  112.0              NaN\n",
       "1980-02-01  118.0              6.0\n",
       "1980-03-01  129.0             11.0\n",
       "1980-04-01   99.0            -30.0\n",
       "1980-05-01  116.0             17.0\n",
       "...           ...              ...\n",
       "1995-03-01   45.0              6.0\n",
       "1995-04-01   52.0              7.0\n",
       "1995-05-01   28.0            -24.0\n",
       "1995-06-01   40.0             12.0\n",
       "1995-07-01   62.0             22.0\n",
       "\n",
       "[185 rows x 2 columns]"
      ]
     },
     "execution_count": 18,
     "metadata": {},
     "output_type": "execute_result"
    }
   ],
   "source": [
    "df_rose"
   ]
  },
  {
   "cell_type": "code",
   "execution_count": 19,
   "id": "d0cb6ee9",
   "metadata": {
    "scrolled": true
   },
   "outputs": [
    {
     "data": {
      "text/plain": [
       "<AxesSubplot:xlabel='YearMonth'>"
      ]
     },
     "execution_count": 19,
     "metadata": {},
     "output_type": "execute_result"
    },
    {
     "data": {
      "image/png": "[encoded data removed]",
      "text/plain": [
       "<Figure size 640x480 with 1 Axes>"
      ]
     },
     "metadata": {},
     "output_type": "display_data"
    }
   ],
   "source": [
    "df_rose['rose difference'].plot()"
   ]
  },
  {
   "cell_type": "code",
   "execution_count": 20,
   "id": "8d16f4a0",
   "metadata": {},
   "outputs": [],
   "source": [
    "from statsmodels.graphics.tsaplots import plot_acf,plot_pacf"
   ]
  },
  {
   "cell_type": "code",
   "execution_count": 21,
   "id": "7e7d6cd4",
   "metadata": {
    "scrolled": false
   },
   "outputs": [
    {
     "data": {
      "image/png": "[encoded data removed]",
      "text/plain": [
       "<Figure size 640x480 with 1 Axes>"
      ]
     },
     "metadata": {},
     "output_type": "display_data"
    }
   ],
   "source": [
    "acf = plot_acf(df_rose['rose difference'].dropna())"
   ]
  },
  {
   "cell_type": "code",
   "execution_count": 22,
   "id": "4c4f643d",
   "metadata": {
    "scrolled": false
   },
   "outputs": [
    {
     "name": "stderr",
     "output_type": "stream",
     "text": [
      "C:\\ProgramData\\Anaconda3\\lib\\site-packages\\statsmodels\\graphics\\tsaplots.py:348: FutureWarning: The default method 'yw' can produce PACF values outside of the [-1,1] interval. After 0.13, the default will change tounadjusted Yule-Walker ('ywm'). You can use this method now by setting method='ywm'.\n",
      "  warnings.warn(\n"
     ]
    },
    {
     "data": {
      "image/png": "[encoded data removed]",
      "text/plain": [
       "<Figure size 640x480 with 1 Axes>"
      ]
     },
     "metadata": {},
     "output_type": "display_data"
    }
   ],
   "source": [
    "pacf = plot_pacf(df_rose['rose difference'].dropna())"
   ]
  },
  {
   "cell_type": "markdown",
   "id": "2694ecba",
   "metadata": {},
   "source": [
    "# Split Data"
   ]
  },
  {
   "cell_type": "code",
   "execution_count": 23,
   "id": "cd72b6f5",
   "metadata": {},
   "outputs": [],
   "source": [
    "from datetime import datetime,timedelta"
   ]
  },
  {
   "cell_type": "code",
   "execution_count": 24,
   "id": "2be5a1a2",
   "metadata": {},
   "outputs": [],
   "source": [
    "train_dataset_end=datetime(1990,12,1)\n",
    "test_dataset_end=datetime(1995,3,1)"
   ]
  },
  {
   "cell_type": "code",
   "execution_count": 25,
   "id": "a79138d0",
   "metadata": {
    "scrolled": false
   },
   "outputs": [
    {
     "data": {
      "text/html": [
       "<div>\n",
       "<style scoped>\n",
       "    .dataframe tbody tr th:only-of-type {\n",
       "        vertical-align: middle;\n",
       "    }\n",
       "\n",
       "    .dataframe tbody tr th {\n",
       "        vertical-align: top;\n",
       "    }\n",
       "\n",
       "    .dataframe thead th {\n",
       "        text-align: right;\n",
       "    }\n",
       "</style>\n",
       "<table border=\"1\" class=\"dataframe\">\n",
       "  <thead>\n",
       "    <tr style=\"text-align: right;\">\n",
       "      <th></th>\n",
       "      <th>Rose</th>\n",
       "      <th>rose difference</th>\n",
       "    </tr>\n",
       "    <tr>\n",
       "      <th>YearMonth</th>\n",
       "      <th></th>\n",
       "      <th></th>\n",
       "    </tr>\n",
       "  </thead>\n",
       "  <tbody>\n",
       "    <tr>\n",
       "      <th>1980-01-01</th>\n",
       "      <td>112.0</td>\n",
       "      <td>NaN</td>\n",
       "    </tr>\n",
       "    <tr>\n",
       "      <th>1980-02-01</th>\n",
       "      <td>118.0</td>\n",
       "      <td>6.0</td>\n",
       "    </tr>\n",
       "    <tr>\n",
       "      <th>1980-03-01</th>\n",
       "      <td>129.0</td>\n",
       "      <td>11.0</td>\n",
       "    </tr>\n",
       "    <tr>\n",
       "      <th>1980-04-01</th>\n",
       "      <td>99.0</td>\n",
       "      <td>-30.0</td>\n",
       "    </tr>\n",
       "    <tr>\n",
       "      <th>1980-05-01</th>\n",
       "      <td>116.0</td>\n",
       "      <td>17.0</td>\n",
       "    </tr>\n",
       "    <tr>\n",
       "      <th>...</th>\n",
       "      <td>...</td>\n",
       "      <td>...</td>\n",
       "    </tr>\n",
       "    <tr>\n",
       "      <th>1995-03-01</th>\n",
       "      <td>45.0</td>\n",
       "      <td>6.0</td>\n",
       "    </tr>\n",
       "    <tr>\n",
       "      <th>1995-04-01</th>\n",
       "      <td>52.0</td>\n",
       "      <td>7.0</td>\n",
       "    </tr>\n",
       "    <tr>\n",
       "      <th>1995-05-01</th>\n",
       "      <td>28.0</td>\n",
       "      <td>-24.0</td>\n",
       "    </tr>\n",
       "    <tr>\n",
       "      <th>1995-06-01</th>\n",
       "      <td>40.0</td>\n",
       "      <td>12.0</td>\n",
       "    </tr>\n",
       "    <tr>\n",
       "      <th>1995-07-01</th>\n",
       "      <td>62.0</td>\n",
       "      <td>22.0</td>\n",
       "    </tr>\n",
       "  </tbody>\n",
       "</table>\n",
       "<p>185 rows × 2 columns</p>\n",
       "</div>"
      ],
      "text/plain": [
       "             Rose  rose difference\n",
       "YearMonth                         \n",
       "1980-01-01  112.0              NaN\n",
       "1980-02-01  118.0              6.0\n",
       "1980-03-01  129.0             11.0\n",
       "1980-04-01   99.0            -30.0\n",
       "1980-05-01  116.0             17.0\n",
       "...           ...              ...\n",
       "1995-03-01   45.0              6.0\n",
       "1995-04-01   52.0              7.0\n",
       "1995-05-01   28.0            -24.0\n",
       "1995-06-01   40.0             12.0\n",
       "1995-07-01   62.0             22.0\n",
       "\n",
       "[185 rows x 2 columns]"
      ]
     },
     "execution_count": 25,
     "metadata": {},
     "output_type": "execute_result"
    }
   ],
   "source": [
    "df_rose"
   ]
  },
  {
   "cell_type": "code",
   "execution_count": 26,
   "id": "ea047a9d",
   "metadata": {},
   "outputs": [],
   "source": [
    "train_data=df_rose[:train_dataset_end]\n",
    "test_data=df_rose[train_dataset_end+timedelta(days=1):test_dataset_end]"
   ]
  },
  {
   "cell_type": "code",
   "execution_count": 83,
   "id": "6ed8a487",
   "metadata": {
    "scrolled": true
   },
   "outputs": [
    {
     "data": {
      "text/html": [
       "<div>\n",
       "<style scoped>\n",
       "    .dataframe tbody tr th:only-of-type {\n",
       "        vertical-align: middle;\n",
       "    }\n",
       "\n",
       "    .dataframe tbody tr th {\n",
       "        vertical-align: top;\n",
       "    }\n",
       "\n",
       "    .dataframe thead th {\n",
       "        text-align: right;\n",
       "    }\n",
       "</style>\n",
       "<table border=\"1\" class=\"dataframe\">\n",
       "  <thead>\n",
       "    <tr style=\"text-align: right;\">\n",
       "      <th></th>\n",
       "      <th>Rose</th>\n",
       "      <th>rose difference</th>\n",
       "    </tr>\n",
       "    <tr>\n",
       "      <th>YearMonth</th>\n",
       "      <th></th>\n",
       "      <th></th>\n",
       "    </tr>\n",
       "  </thead>\n",
       "  <tbody>\n",
       "    <tr>\n",
       "      <th>1980-01-01</th>\n",
       "      <td>112.0</td>\n",
       "      <td>NaN</td>\n",
       "    </tr>\n",
       "    <tr>\n",
       "      <th>1980-02-01</th>\n",
       "      <td>118.0</td>\n",
       "      <td>6.0</td>\n",
       "    </tr>\n",
       "    <tr>\n",
       "      <th>1980-03-01</th>\n",
       "      <td>129.0</td>\n",
       "      <td>11.0</td>\n",
       "    </tr>\n",
       "    <tr>\n",
       "      <th>1980-04-01</th>\n",
       "      <td>99.0</td>\n",
       "      <td>-30.0</td>\n",
       "    </tr>\n",
       "    <tr>\n",
       "      <th>1980-05-01</th>\n",
       "      <td>116.0</td>\n",
       "      <td>17.0</td>\n",
       "    </tr>\n",
       "    <tr>\n",
       "      <th>...</th>\n",
       "      <td>...</td>\n",
       "      <td>...</td>\n",
       "    </tr>\n",
       "    <tr>\n",
       "      <th>1990-08-01</th>\n",
       "      <td>70.0</td>\n",
       "      <td>-8.0</td>\n",
       "    </tr>\n",
       "    <tr>\n",
       "      <th>1990-09-01</th>\n",
       "      <td>83.0</td>\n",
       "      <td>13.0</td>\n",
       "    </tr>\n",
       "    <tr>\n",
       "      <th>1990-10-01</th>\n",
       "      <td>65.0</td>\n",
       "      <td>-18.0</td>\n",
       "    </tr>\n",
       "    <tr>\n",
       "      <th>1990-11-01</th>\n",
       "      <td>110.0</td>\n",
       "      <td>45.0</td>\n",
       "    </tr>\n",
       "    <tr>\n",
       "      <th>1990-12-01</th>\n",
       "      <td>132.0</td>\n",
       "      <td>22.0</td>\n",
       "    </tr>\n",
       "  </tbody>\n",
       "</table>\n",
       "<p>132 rows × 2 columns</p>\n",
       "</div>"
      ],
      "text/plain": [
       "             Rose  rose difference\n",
       "YearMonth                         \n",
       "1980-01-01  112.0              NaN\n",
       "1980-02-01  118.0              6.0\n",
       "1980-03-01  129.0             11.0\n",
       "1980-04-01   99.0            -30.0\n",
       "1980-05-01  116.0             17.0\n",
       "...           ...              ...\n",
       "1990-08-01   70.0             -8.0\n",
       "1990-09-01   83.0             13.0\n",
       "1990-10-01   65.0            -18.0\n",
       "1990-11-01  110.0             45.0\n",
       "1990-12-01  132.0             22.0\n",
       "\n",
       "[132 rows x 2 columns]"
      ]
     },
     "execution_count": 83,
     "metadata": {},
     "output_type": "execute_result"
    }
   ],
   "source": [
    "train_data"
   ]
  },
  {
   "cell_type": "code",
   "execution_count": 84,
   "id": "21a7a676",
   "metadata": {
    "scrolled": true
   },
   "outputs": [
    {
     "data": {
      "text/html": [
       "<div>\n",
       "<style scoped>\n",
       "    .dataframe tbody tr th:only-of-type {\n",
       "        vertical-align: middle;\n",
       "    }\n",
       "\n",
       "    .dataframe tbody tr th {\n",
       "        vertical-align: top;\n",
       "    }\n",
       "\n",
       "    .dataframe thead th {\n",
       "        text-align: right;\n",
       "    }\n",
       "</style>\n",
       "<table border=\"1\" class=\"dataframe\">\n",
       "  <thead>\n",
       "    <tr style=\"text-align: right;\">\n",
       "      <th></th>\n",
       "      <th>Rose</th>\n",
       "      <th>rose difference</th>\n",
       "      <th>Predicted_ARIMA</th>\n",
       "      <th>Predicted_SARIMA</th>\n",
       "    </tr>\n",
       "    <tr>\n",
       "      <th>YearMonth</th>\n",
       "      <th></th>\n",
       "      <th></th>\n",
       "      <th></th>\n",
       "      <th></th>\n",
       "    </tr>\n",
       "  </thead>\n",
       "  <tbody>\n",
       "    <tr>\n",
       "      <th>1991-01-01</th>\n",
       "      <td>54.0</td>\n",
       "      <td>-78.0</td>\n",
       "      <td>-36.893584</td>\n",
       "      <td>-91.183796</td>\n",
       "    </tr>\n",
       "    <tr>\n",
       "      <th>1991-02-01</th>\n",
       "      <td>55.0</td>\n",
       "      <td>1.0</td>\n",
       "      <td>30.540893</td>\n",
       "      <td>7.118906</td>\n",
       "    </tr>\n",
       "    <tr>\n",
       "      <th>1991-03-01</th>\n",
       "      <td>66.0</td>\n",
       "      <td>11.0</td>\n",
       "      <td>27.306362</td>\n",
       "      <td>9.312434</td>\n",
       "    </tr>\n",
       "    <tr>\n",
       "      <th>1991-04-01</th>\n",
       "      <td>65.0</td>\n",
       "      <td>-1.0</td>\n",
       "      <td>8.745835</td>\n",
       "      <td>-2.437362</td>\n",
       "    </tr>\n",
       "    <tr>\n",
       "      <th>1991-05-01</th>\n",
       "      <td>60.0</td>\n",
       "      <td>-5.0</td>\n",
       "      <td>-11.783770</td>\n",
       "      <td>-0.140594</td>\n",
       "    </tr>\n",
       "    <tr>\n",
       "      <th>1991-06-01</th>\n",
       "      <td>65.0</td>\n",
       "      <td>5.0</td>\n",
       "      <td>6.843150</td>\n",
       "      <td>8.809749</td>\n",
       "    </tr>\n",
       "    <tr>\n",
       "      <th>1991-07-01</th>\n",
       "      <td>96.0</td>\n",
       "      <td>31.0</td>\n",
       "      <td>-6.950591</td>\n",
       "      <td>7.972127</td>\n",
       "    </tr>\n",
       "    <tr>\n",
       "      <th>1991-08-01</th>\n",
       "      <td>55.0</td>\n",
       "      <td>-41.0</td>\n",
       "      <td>-12.935630</td>\n",
       "      <td>-16.941520</td>\n",
       "    </tr>\n",
       "    <tr>\n",
       "      <th>1991-09-01</th>\n",
       "      <td>71.0</td>\n",
       "      <td>16.0</td>\n",
       "      <td>-0.231140</td>\n",
       "      <td>15.178974</td>\n",
       "    </tr>\n",
       "    <tr>\n",
       "      <th>1991-10-01</th>\n",
       "      <td>63.0</td>\n",
       "      <td>-8.0</td>\n",
       "      <td>12.068924</td>\n",
       "      <td>7.229183</td>\n",
       "    </tr>\n",
       "    <tr>\n",
       "      <th>1991-11-01</th>\n",
       "      <td>74.0</td>\n",
       "      <td>11.0</td>\n",
       "      <td>-4.459419</td>\n",
       "      <td>28.893361</td>\n",
       "    </tr>\n",
       "    <tr>\n",
       "      <th>1991-12-01</th>\n",
       "      <td>106.0</td>\n",
       "      <td>32.0</td>\n",
       "      <td>0.556585</td>\n",
       "      <td>49.915998</td>\n",
       "    </tr>\n",
       "    <tr>\n",
       "      <th>1992-01-01</th>\n",
       "      <td>34.0</td>\n",
       "      <td>-72.0</td>\n",
       "      <td>-27.001106</td>\n",
       "      <td>-70.008452</td>\n",
       "    </tr>\n",
       "    <tr>\n",
       "      <th>1992-02-01</th>\n",
       "      <td>47.0</td>\n",
       "      <td>13.0</td>\n",
       "      <td>26.079392</td>\n",
       "      <td>18.028012</td>\n",
       "    </tr>\n",
       "    <tr>\n",
       "      <th>1992-03-01</th>\n",
       "      <td>56.0</td>\n",
       "      <td>9.0</td>\n",
       "      <td>17.047336</td>\n",
       "      <td>6.629856</td>\n",
       "    </tr>\n",
       "    <tr>\n",
       "      <th>1992-04-01</th>\n",
       "      <td>53.0</td>\n",
       "      <td>-3.0</td>\n",
       "      <td>2.780997</td>\n",
       "      <td>-3.293289</td>\n",
       "    </tr>\n",
       "    <tr>\n",
       "      <th>1992-05-01</th>\n",
       "      <td>53.0</td>\n",
       "      <td>0.0</td>\n",
       "      <td>-10.978266</td>\n",
       "      <td>-3.647945</td>\n",
       "    </tr>\n",
       "    <tr>\n",
       "      <th>1992-06-01</th>\n",
       "      <td>55.0</td>\n",
       "      <td>2.0</td>\n",
       "      <td>4.952986</td>\n",
       "      <td>-0.184594</td>\n",
       "    </tr>\n",
       "    <tr>\n",
       "      <th>1992-07-01</th>\n",
       "      <td>67.0</td>\n",
       "      <td>12.0</td>\n",
       "      <td>-7.165643</td>\n",
       "      <td>13.384120</td>\n",
       "    </tr>\n",
       "    <tr>\n",
       "      <th>1992-08-01</th>\n",
       "      <td>52.0</td>\n",
       "      <td>-15.0</td>\n",
       "      <td>-2.639600</td>\n",
       "      <td>-13.266864</td>\n",
       "    </tr>\n",
       "    <tr>\n",
       "      <th>1992-09-01</th>\n",
       "      <td>46.0</td>\n",
       "      <td>-6.0</td>\n",
       "      <td>-4.356930</td>\n",
       "      <td>9.604109</td>\n",
       "    </tr>\n",
       "    <tr>\n",
       "      <th>1992-10-01</th>\n",
       "      <td>51.0</td>\n",
       "      <td>5.0</td>\n",
       "      <td>13.292682</td>\n",
       "      <td>6.010554</td>\n",
       "    </tr>\n",
       "    <tr>\n",
       "      <th>1992-11-01</th>\n",
       "      <td>58.0</td>\n",
       "      <td>7.0</td>\n",
       "      <td>-4.170801</td>\n",
       "      <td>25.822309</td>\n",
       "    </tr>\n",
       "    <tr>\n",
       "      <th>1992-12-01</th>\n",
       "      <td>91.0</td>\n",
       "      <td>33.0</td>\n",
       "      <td>-0.939765</td>\n",
       "      <td>41.605889</td>\n",
       "    </tr>\n",
       "    <tr>\n",
       "      <th>1993-01-01</th>\n",
       "      <td>33.0</td>\n",
       "      <td>-58.0</td>\n",
       "      <td>-27.446458</td>\n",
       "      <td>-67.583485</td>\n",
       "    </tr>\n",
       "    <tr>\n",
       "      <th>1993-02-01</th>\n",
       "      <td>40.0</td>\n",
       "      <td>7.0</td>\n",
       "      <td>18.618109</td>\n",
       "      <td>3.240071</td>\n",
       "    </tr>\n",
       "    <tr>\n",
       "      <th>1993-03-01</th>\n",
       "      <td>46.0</td>\n",
       "      <td>6.0</td>\n",
       "      <td>13.404012</td>\n",
       "      <td>-3.020853</td>\n",
       "    </tr>\n",
       "    <tr>\n",
       "      <th>1993-04-01</th>\n",
       "      <td>45.0</td>\n",
       "      <td>-1.0</td>\n",
       "      <td>5.381979</td>\n",
       "      <td>-8.425315</td>\n",
       "    </tr>\n",
       "    <tr>\n",
       "      <th>1993-05-01</th>\n",
       "      <td>41.0</td>\n",
       "      <td>-4.0</td>\n",
       "      <td>-9.812224</td>\n",
       "      <td>-8.179910</td>\n",
       "    </tr>\n",
       "    <tr>\n",
       "      <th>1993-06-01</th>\n",
       "      <td>55.0</td>\n",
       "      <td>14.0</td>\n",
       "      <td>6.377861</td>\n",
       "      <td>0.362883</td>\n",
       "    </tr>\n",
       "    <tr>\n",
       "      <th>1993-07-01</th>\n",
       "      <td>57.0</td>\n",
       "      <td>2.0</td>\n",
       "      <td>-11.844452</td>\n",
       "      <td>3.578792</td>\n",
       "    </tr>\n",
       "    <tr>\n",
       "      <th>1993-08-01</th>\n",
       "      <td>54.0</td>\n",
       "      <td>-3.0</td>\n",
       "      <td>-2.593896</td>\n",
       "      <td>-17.925624</td>\n",
       "    </tr>\n",
       "    <tr>\n",
       "      <th>1993-09-01</th>\n",
       "      <td>46.0</td>\n",
       "      <td>-8.0</td>\n",
       "      <td>-7.488537</td>\n",
       "      <td>0.488512</td>\n",
       "    </tr>\n",
       "    <tr>\n",
       "      <th>1993-10-01</th>\n",
       "      <td>52.0</td>\n",
       "      <td>6.0</td>\n",
       "      <td>10.032528</td>\n",
       "      <td>-2.137606</td>\n",
       "    </tr>\n",
       "    <tr>\n",
       "      <th>1993-11-01</th>\n",
       "      <td>48.0</td>\n",
       "      <td>-4.0</td>\n",
       "      <td>-5.322122</td>\n",
       "      <td>11.543157</td>\n",
       "    </tr>\n",
       "    <tr>\n",
       "      <th>1993-12-01</th>\n",
       "      <td>77.0</td>\n",
       "      <td>29.0</td>\n",
       "      <td>4.834832</td>\n",
       "      <td>40.187370</td>\n",
       "    </tr>\n",
       "    <tr>\n",
       "      <th>1994-01-01</th>\n",
       "      <td>30.0</td>\n",
       "      <td>-47.0</td>\n",
       "      <td>-20.423099</td>\n",
       "      <td>-58.951083</td>\n",
       "    </tr>\n",
       "    <tr>\n",
       "      <th>1994-02-01</th>\n",
       "      <td>35.0</td>\n",
       "      <td>5.0</td>\n",
       "      <td>16.208873</td>\n",
       "      <td>4.080772</td>\n",
       "    </tr>\n",
       "    <tr>\n",
       "      <th>1994-03-01</th>\n",
       "      <td>42.0</td>\n",
       "      <td>7.0</td>\n",
       "      <td>9.559278</td>\n",
       "      <td>0.779144</td>\n",
       "    </tr>\n",
       "    <tr>\n",
       "      <th>1994-04-01</th>\n",
       "      <td>48.0</td>\n",
       "      <td>6.0</td>\n",
       "      <td>4.538627</td>\n",
       "      <td>-6.019394</td>\n",
       "    </tr>\n",
       "    <tr>\n",
       "      <th>1994-05-01</th>\n",
       "      <td>44.0</td>\n",
       "      <td>-4.0</td>\n",
       "      <td>-13.795094</td>\n",
       "      <td>-11.637450</td>\n",
       "    </tr>\n",
       "    <tr>\n",
       "      <th>1994-06-01</th>\n",
       "      <td>45.0</td>\n",
       "      <td>1.0</td>\n",
       "      <td>3.105305</td>\n",
       "      <td>-3.530706</td>\n",
       "    </tr>\n",
       "    <tr>\n",
       "      <th>1994-09-01</th>\n",
       "      <td>46.0</td>\n",
       "      <td>1.0</td>\n",
       "      <td>-5.926769</td>\n",
       "      <td>7.473608</td>\n",
       "    </tr>\n",
       "    <tr>\n",
       "      <th>1994-10-01</th>\n",
       "      <td>51.0</td>\n",
       "      <td>5.0</td>\n",
       "      <td>4.224300</td>\n",
       "      <td>-5.399434</td>\n",
       "    </tr>\n",
       "    <tr>\n",
       "      <th>1994-11-01</th>\n",
       "      <td>63.0</td>\n",
       "      <td>12.0</td>\n",
       "      <td>-9.717053</td>\n",
       "      <td>-6.219261</td>\n",
       "    </tr>\n",
       "    <tr>\n",
       "      <th>1994-12-01</th>\n",
       "      <td>84.0</td>\n",
       "      <td>21.0</td>\n",
       "      <td>-4.075996</td>\n",
       "      <td>-14.469121</td>\n",
       "    </tr>\n",
       "    <tr>\n",
       "      <th>1995-01-01</th>\n",
       "      <td>30.0</td>\n",
       "      <td>-54.0</td>\n",
       "      <td>-23.637589</td>\n",
       "      <td>-19.963326</td>\n",
       "    </tr>\n",
       "    <tr>\n",
       "      <th>1995-02-01</th>\n",
       "      <td>39.0</td>\n",
       "      <td>9.0</td>\n",
       "      <td>21.857494</td>\n",
       "      <td>45.705002</td>\n",
       "    </tr>\n",
       "    <tr>\n",
       "      <th>1995-03-01</th>\n",
       "      <td>45.0</td>\n",
       "      <td>6.0</td>\n",
       "      <td>11.877773</td>\n",
       "      <td>-21.581790</td>\n",
       "    </tr>\n",
       "  </tbody>\n",
       "</table>\n",
       "</div>"
      ],
      "text/plain": [
       "             Rose  rose difference  Predicted_ARIMA  Predicted_SARIMA\n",
       "YearMonth                                                            \n",
       "1991-01-01   54.0            -78.0       -36.893584        -91.183796\n",
       "1991-02-01   55.0              1.0        30.540893          7.118906\n",
       "1991-03-01   66.0             11.0        27.306362          9.312434\n",
       "1991-04-01   65.0             -1.0         8.745835         -2.437362\n",
       "1991-05-01   60.0             -5.0       -11.783770         -0.140594\n",
       "1991-06-01   65.0              5.0         6.843150          8.809749\n",
       "1991-07-01   96.0             31.0        -6.950591          7.972127\n",
       "1991-08-01   55.0            -41.0       -12.935630        -16.941520\n",
       "1991-09-01   71.0             16.0        -0.231140         15.178974\n",
       "1991-10-01   63.0             -8.0        12.068924          7.229183\n",
       "1991-11-01   74.0             11.0        -4.459419         28.893361\n",
       "1991-12-01  106.0             32.0         0.556585         49.915998\n",
       "1992-01-01   34.0            -72.0       -27.001106        -70.008452\n",
       "1992-02-01   47.0             13.0        26.079392         18.028012\n",
       "1992-03-01   56.0              9.0        17.047336          6.629856\n",
       "1992-04-01   53.0             -3.0         2.780997         -3.293289\n",
       "1992-05-01   53.0              0.0       -10.978266         -3.647945\n",
       "1992-06-01   55.0              2.0         4.952986         -0.184594\n",
       "1992-07-01   67.0             12.0        -7.165643         13.384120\n",
       "1992-08-01   52.0            -15.0        -2.639600        -13.266864\n",
       "1992-09-01   46.0             -6.0        -4.356930          9.604109\n",
       "1992-10-01   51.0              5.0        13.292682          6.010554\n",
       "1992-11-01   58.0              7.0        -4.170801         25.822309\n",
       "1992-12-01   91.0             33.0        -0.939765         41.605889\n",
       "1993-01-01   33.0            -58.0       -27.446458        -67.583485\n",
       "1993-02-01   40.0              7.0        18.618109          3.240071\n",
       "1993-03-01   46.0              6.0        13.404012         -3.020853\n",
       "1993-04-01   45.0             -1.0         5.381979         -8.425315\n",
       "1993-05-01   41.0             -4.0        -9.812224         -8.179910\n",
       "1993-06-01   55.0             14.0         6.377861          0.362883\n",
       "1993-07-01   57.0              2.0       -11.844452          3.578792\n",
       "1993-08-01   54.0             -3.0        -2.593896        -17.925624\n",
       "1993-09-01   46.0             -8.0        -7.488537          0.488512\n",
       "1993-10-01   52.0              6.0        10.032528         -2.137606\n",
       "1993-11-01   48.0             -4.0        -5.322122         11.543157\n",
       "1993-12-01   77.0             29.0         4.834832         40.187370\n",
       "1994-01-01   30.0            -47.0       -20.423099        -58.951083\n",
       "1994-02-01   35.0              5.0        16.208873          4.080772\n",
       "1994-03-01   42.0              7.0         9.559278          0.779144\n",
       "1994-04-01   48.0              6.0         4.538627         -6.019394\n",
       "1994-05-01   44.0             -4.0       -13.795094        -11.637450\n",
       "1994-06-01   45.0              1.0         3.105305         -3.530706\n",
       "1994-09-01   46.0              1.0        -5.926769          7.473608\n",
       "1994-10-01   51.0              5.0         4.224300         -5.399434\n",
       "1994-11-01   63.0             12.0        -9.717053         -6.219261\n",
       "1994-12-01   84.0             21.0        -4.075996        -14.469121\n",
       "1995-01-01   30.0            -54.0       -23.637589        -19.963326\n",
       "1995-02-01   39.0              9.0        21.857494         45.705002\n",
       "1995-03-01   45.0              6.0        11.877773        -21.581790"
      ]
     },
     "execution_count": 84,
     "metadata": {},
     "output_type": "execute_result"
    }
   ],
   "source": [
    "test_data"
   ]
  },
  {
   "cell_type": "code",
   "execution_count": 38,
   "id": "6b19f0a1",
   "metadata": {},
   "outputs": [],
   "source": [
    "pred_start_date=test_data.index[0]\n",
    "pred_end_date=test_data.index[-1]"
   ]
  },
  {
   "cell_type": "code",
   "execution_count": 28,
   "id": "13890995",
   "metadata": {},
   "outputs": [],
   "source": [
    "## create a ARIMA model\n",
    "from statsmodels.tsa.arima.model import ARIMA"
   ]
  },
  {
   "cell_type": "code",
   "execution_count": 61,
   "id": "7c9bd24a",
   "metadata": {},
   "outputs": [
    {
     "name": "stderr",
     "output_type": "stream",
     "text": [
      "C:\\ProgramData\\Anaconda3\\lib\\site-packages\\statsmodels\\tsa\\base\\tsa_model.py:471: ValueWarning: A date index has been provided, but it has no associated frequency information and so will be ignored when e.g. forecasting.\n",
      "  self._init_dates(dates, freq)\n",
      "C:\\ProgramData\\Anaconda3\\lib\\site-packages\\statsmodels\\tsa\\base\\tsa_model.py:471: ValueWarning: A date index has been provided, but it has no associated frequency information and so will be ignored when e.g. forecasting.\n",
      "  self._init_dates(dates, freq)\n",
      "C:\\ProgramData\\Anaconda3\\lib\\site-packages\\statsmodels\\tsa\\base\\tsa_model.py:471: ValueWarning: A date index has been provided, but it has no associated frequency information and so will be ignored when e.g. forecasting.\n",
      "  self._init_dates(dates, freq)\n"
     ]
    }
   ],
   "source": [
    "model_ARIMA=ARIMA(df_rose['rose difference'],order=(4,1,2))"
   ]
  },
  {
   "cell_type": "code",
   "execution_count": 62,
   "id": "3db100ce",
   "metadata": {},
   "outputs": [
    {
     "name": "stderr",
     "output_type": "stream",
     "text": [
      "C:\\ProgramData\\Anaconda3\\lib\\site-packages\\statsmodels\\base\\model.py:604: ConvergenceWarning: Maximum Likelihood optimization failed to converge. Check mle_retvals\n",
      "  warnings.warn(\"Maximum Likelihood optimization failed to \"\n"
     ]
    }
   ],
   "source": [
    "model_Arima_fit=model_ARIMA.fit()"
   ]
  },
  {
   "cell_type": "code",
   "execution_count": 63,
   "id": "b5ac5dae",
   "metadata": {
    "scrolled": true
   },
   "outputs": [
    {
     "data": {
      "text/html": [
       "<table class=\"simpletable\">\n",
       "<caption>SARIMAX Results</caption>\n",
       "<tr>\n",
       "  <th>Dep. Variable:</th>    <td>rose difference</td> <th>  No. Observations:  </th>    <td>185</td>  \n",
       "</tr>\n",
       "<tr>\n",
       "  <th>Model:</th>            <td>ARIMA(4, 1, 2)</td>  <th>  Log Likelihood     </th> <td>-889.664</td>\n",
       "</tr>\n",
       "<tr>\n",
       "  <th>Date:</th>            <td>Sun, 30 Jul 2023</td> <th>  AIC                </th> <td>1793.328</td>\n",
       "</tr>\n",
       "<tr>\n",
       "  <th>Time:</th>                <td>20:12:46</td>     <th>  BIC                </th> <td>1815.832</td>\n",
       "</tr>\n",
       "<tr>\n",
       "  <th>Sample:</th>                  <td>0</td>        <th>  HQIC               </th> <td>1802.449</td>\n",
       "</tr>\n",
       "<tr>\n",
       "  <th></th>                      <td> - 185</td>      <th>                     </th>     <td> </td>   \n",
       "</tr>\n",
       "<tr>\n",
       "  <th>Covariance Type:</th>        <td>opg</td>       <th>                     </th>     <td> </td>   \n",
       "</tr>\n",
       "</table>\n",
       "<table class=\"simpletable\">\n",
       "<tr>\n",
       "     <td></td>       <th>coef</th>     <th>std err</th>      <th>z</th>      <th>P>|z|</th>  <th>[0.025</th>    <th>0.975]</th>  \n",
       "</tr>\n",
       "<tr>\n",
       "  <th>ar.L1</th>  <td>   -1.5259</td> <td>    0.069</td> <td>  -22.034</td> <td> 0.000</td> <td>   -1.662</td> <td>   -1.390</td>\n",
       "</tr>\n",
       "<tr>\n",
       "  <th>ar.L2</th>  <td>   -1.0038</td> <td>    0.107</td> <td>   -9.392</td> <td> 0.000</td> <td>   -1.213</td> <td>   -0.794</td>\n",
       "</tr>\n",
       "<tr>\n",
       "  <th>ar.L3</th>  <td>   -0.6031</td> <td>    0.114</td> <td>   -5.274</td> <td> 0.000</td> <td>   -0.827</td> <td>   -0.379</td>\n",
       "</tr>\n",
       "<tr>\n",
       "  <th>ar.L4</th>  <td>   -0.1252</td> <td>    0.068</td> <td>   -1.842</td> <td> 0.065</td> <td>   -0.258</td> <td>    0.008</td>\n",
       "</tr>\n",
       "<tr>\n",
       "  <th>ma.L1</th>  <td>   -0.0014</td> <td>    0.557</td> <td>   -0.002</td> <td> 0.998</td> <td>   -1.094</td> <td>    1.091</td>\n",
       "</tr>\n",
       "<tr>\n",
       "  <th>ma.L2</th>  <td>   -0.9986</td> <td>    0.088</td> <td>  -11.341</td> <td> 0.000</td> <td>   -1.171</td> <td>   -0.826</td>\n",
       "</tr>\n",
       "<tr>\n",
       "  <th>sigma2</th> <td>  854.5393</td> <td>    0.001</td> <td> 1.28e+06</td> <td> 0.000</td> <td>  854.538</td> <td>  854.541</td>\n",
       "</tr>\n",
       "</table>\n",
       "<table class=\"simpletable\">\n",
       "<tr>\n",
       "  <th>Ljung-Box (L1) (Q):</th>     <td>0.22</td> <th>  Jarque-Bera (JB):  </th> <td>14.34</td>\n",
       "</tr>\n",
       "<tr>\n",
       "  <th>Prob(Q):</th>                <td>0.64</td> <th>  Prob(JB):          </th> <td>0.00</td> \n",
       "</tr>\n",
       "<tr>\n",
       "  <th>Heteroskedasticity (H):</th> <td>0.23</td> <th>  Skew:              </th> <td>-0.06</td>\n",
       "</tr>\n",
       "<tr>\n",
       "  <th>Prob(H) (two-sided):</th>    <td>0.00</td> <th>  Kurtosis:          </th> <td>4.36</td> \n",
       "</tr>\n",
       "</table><br/><br/>Warnings:<br/>[1] Covariance matrix calculated using the outer product of gradients (complex-step).<br/>[2] Covariance matrix is singular or near-singular, with condition number 7.32e+21. Standard errors may be unstable."
      ],
      "text/plain": [
       "<class 'statsmodels.iolib.summary.Summary'>\n",
       "\"\"\"\n",
       "                               SARIMAX Results                                \n",
       "==============================================================================\n",
       "Dep. Variable:        rose difference   No. Observations:                  185\n",
       "Model:                 ARIMA(4, 1, 2)   Log Likelihood                -889.664\n",
       "Date:                Sun, 30 Jul 2023   AIC                           1793.328\n",
       "Time:                        20:12:46   BIC                           1815.832\n",
       "Sample:                             0   HQIC                          1802.449\n",
       "                                - 185                                         \n",
       "Covariance Type:                  opg                                         \n",
       "==============================================================================\n",
       "                 coef    std err          z      P>|z|      [0.025      0.975]\n",
       "------------------------------------------------------------------------------\n",
       "ar.L1         -1.5259      0.069    -22.034      0.000      -1.662      -1.390\n",
       "ar.L2         -1.0038      0.107     -9.392      0.000      -1.213      -0.794\n",
       "ar.L3         -0.6031      0.114     -5.274      0.000      -0.827      -0.379\n",
       "ar.L4         -0.1252      0.068     -1.842      0.065      -0.258       0.008\n",
       "ma.L1         -0.0014      0.557     -0.002      0.998      -1.094       1.091\n",
       "ma.L2         -0.9986      0.088    -11.341      0.000      -1.171      -0.826\n",
       "sigma2       854.5393      0.001   1.28e+06      0.000     854.538     854.541\n",
       "===================================================================================\n",
       "Ljung-Box (L1) (Q):                   0.22   Jarque-Bera (JB):                14.34\n",
       "Prob(Q):                              0.64   Prob(JB):                         0.00\n",
       "Heteroskedasticity (H):               0.23   Skew:                            -0.06\n",
       "Prob(H) (two-sided):                  0.00   Kurtosis:                         4.36\n",
       "===================================================================================\n",
       "\n",
       "Warnings:\n",
       "[1] Covariance matrix calculated using the outer product of gradients (complex-step).\n",
       "[2] Covariance matrix is singular or near-singular, with condition number 7.32e+21. Standard errors may be unstable.\n",
       "\"\"\""
      ]
     },
     "execution_count": 63,
     "metadata": {},
     "output_type": "execute_result"
    }
   ],
   "source": [
    "model_Arima_fit.summary()"
   ]
  },
  {
   "cell_type": "code",
   "execution_count": 64,
   "id": "e6d3a053",
   "metadata": {},
   "outputs": [
    {
     "name": "stdout",
     "output_type": "stream",
     "text": [
      "1991-01-01 00:00:00\n",
      "1995-03-01 00:00:00\n"
     ]
    }
   ],
   "source": [
    "##prediction\n",
    "pred_start_date=test_data.index[0]\n",
    "pred_end_date=test_data.index[-1]\n",
    "print(pred_start_date)\n",
    "print(pred_end_date)"
   ]
  },
  {
   "cell_type": "code",
   "execution_count": 65,
   "id": "8ad8e990",
   "metadata": {},
   "outputs": [],
   "source": [
    "pred=model_Arima_fit.predict(start=pred_start_date,end=pred_end_date)\n",
    "residuals=test_data['rose difference']-pred"
   ]
  },
  {
   "cell_type": "code",
   "execution_count": 66,
   "id": "39bad800",
   "metadata": {},
   "outputs": [
    {
     "name": "stderr",
     "output_type": "stream",
     "text": [
      "C:\\Users\\Nitin Rathore\\AppData\\Local\\Temp\\ipykernel_5568\\95659616.py:1: SettingWithCopyWarning: \n",
      "A value is trying to be set on a copy of a slice from a DataFrame.\n",
      "Try using .loc[row_indexer,col_indexer] = value instead\n",
      "\n",
      "See the caveats in the documentation: https://pandas.pydata.org/pandas-docs/stable/user_guide/indexing.html#returning-a-view-versus-a-copy\n",
      "  test_data['Predicted_ARIMA']=pred\n"
     ]
    }
   ],
   "source": [
    "test_data['Predicted_ARIMA']=pred"
   ]
  },
  {
   "cell_type": "code",
   "execution_count": 67,
   "id": "af7373a7",
   "metadata": {
    "scrolled": false
   },
   "outputs": [
    {
     "data": {
      "text/plain": [
       "<AxesSubplot:xlabel='YearMonth'>"
      ]
     },
     "execution_count": 67,
     "metadata": {},
     "output_type": "execute_result"
    },
    {
     "data": {
      "image/png": "[encoded data removed]",
      "text/plain": [
       "<Figure size 640x480 with 1 Axes>"
      ]
     },
     "metadata": {},
     "output_type": "display_data"
    }
   ],
   "source": [
    "test_data[['rose difference','Predicted_ARIMA']].plot()"
   ]
  },
  {
   "cell_type": "code",
   "execution_count": 68,
   "id": "2fc5147f",
   "metadata": {},
   "outputs": [],
   "source": [
    "## create a SARIMA model\n",
    "from statsmodels.tsa.statespace.sarimax import SARIMAX"
   ]
  },
  {
   "cell_type": "code",
   "execution_count": 71,
   "id": "5e1ed3eb",
   "metadata": {},
   "outputs": [
    {
     "name": "stderr",
     "output_type": "stream",
     "text": [
      "C:\\ProgramData\\Anaconda3\\lib\\site-packages\\statsmodels\\tsa\\base\\tsa_model.py:471: ValueWarning: A date index has been provided, but it has no associated frequency information and so will be ignored when e.g. forecasting.\n",
      "  self._init_dates(dates, freq)\n",
      "C:\\ProgramData\\Anaconda3\\lib\\site-packages\\statsmodels\\tsa\\base\\tsa_model.py:471: ValueWarning: A date index has been provided, but it has no associated frequency information and so will be ignored when e.g. forecasting.\n",
      "  self._init_dates(dates, freq)\n"
     ]
    }
   ],
   "source": [
    "model_SARIMA=SARIMAX(df_rose['rose difference'],order=(4,1,2),seasonal_order=(4,1,2,12))"
   ]
  },
  {
   "cell_type": "code",
   "execution_count": 72,
   "id": "21026f4e",
   "metadata": {},
   "outputs": [
    {
     "name": "stderr",
     "output_type": "stream",
     "text": [
      "C:\\ProgramData\\Anaconda3\\lib\\site-packages\\statsmodels\\base\\model.py:604: ConvergenceWarning: Maximum Likelihood optimization failed to converge. Check mle_retvals\n",
      "  warnings.warn(\"Maximum Likelihood optimization failed to \"\n"
     ]
    }
   ],
   "source": [
    "model_SARIMA_fit=model_SARIMA.fit()"
   ]
  },
  {
   "cell_type": "code",
   "execution_count": 73,
   "id": "d3abb64f",
   "metadata": {
    "scrolled": true
   },
   "outputs": [
    {
     "data": {
      "text/html": [
       "<table class=\"simpletable\">\n",
       "<caption>SARIMAX Results</caption>\n",
       "<tr>\n",
       "  <th>Dep. Variable:</th>           <td>rose difference</td>        <th>  No. Observations:  </th>    <td>185</td>  \n",
       "</tr>\n",
       "<tr>\n",
       "  <th>Model:</th>           <td>SARIMAX(4, 1, 2)x(4, 1, 2, 12)</td> <th>  Log Likelihood     </th> <td>-768.600</td>\n",
       "</tr>\n",
       "<tr>\n",
       "  <th>Date:</th>                   <td>Sun, 30 Jul 2023</td>        <th>  AIC                </th> <td>1563.201</td>\n",
       "</tr>\n",
       "<tr>\n",
       "  <th>Time:</th>                       <td>20:19:33</td>            <th>  BIC                </th> <td>1604.118</td>\n",
       "</tr>\n",
       "<tr>\n",
       "  <th>Sample:</th>                         <td>0</td>               <th>  HQIC               </th> <td>1579.802</td>\n",
       "</tr>\n",
       "<tr>\n",
       "  <th></th>                             <td> - 185</td>             <th>                     </th>     <td> </td>   \n",
       "</tr>\n",
       "<tr>\n",
       "  <th>Covariance Type:</th>               <td>opg</td>              <th>                     </th>     <td> </td>   \n",
       "</tr>\n",
       "</table>\n",
       "<table class=\"simpletable\">\n",
       "<tr>\n",
       "      <td></td>        <th>coef</th>     <th>std err</th>      <th>z</th>      <th>P>|z|</th>  <th>[0.025</th>    <th>0.975]</th>  \n",
       "</tr>\n",
       "<tr>\n",
       "  <th>ar.L1</th>    <td>    0.1339</td> <td>    0.124</td> <td>    1.082</td> <td> 0.279</td> <td>   -0.109</td> <td>    0.376</td>\n",
       "</tr>\n",
       "<tr>\n",
       "  <th>ar.L2</th>    <td>   -0.2817</td> <td>    0.097</td> <td>   -2.911</td> <td> 0.004</td> <td>   -0.471</td> <td>   -0.092</td>\n",
       "</tr>\n",
       "<tr>\n",
       "  <th>ar.L3</th>    <td>    0.0620</td> <td>    0.108</td> <td>    0.575</td> <td> 0.566</td> <td>   -0.150</td> <td>    0.274</td>\n",
       "</tr>\n",
       "<tr>\n",
       "  <th>ar.L4</th>    <td>   -0.0921</td> <td>    0.100</td> <td>   -0.921</td> <td> 0.357</td> <td>   -0.288</td> <td>    0.104</td>\n",
       "</tr>\n",
       "<tr>\n",
       "  <th>ma.L1</th>    <td>   -1.8217</td> <td>    0.113</td> <td>  -16.129</td> <td> 0.000</td> <td>   -2.043</td> <td>   -1.600</td>\n",
       "</tr>\n",
       "<tr>\n",
       "  <th>ma.L2</th>    <td>    0.8261</td> <td>    0.110</td> <td>    7.501</td> <td> 0.000</td> <td>    0.610</td> <td>    1.042</td>\n",
       "</tr>\n",
       "<tr>\n",
       "  <th>ar.S.L12</th> <td>   -0.9425</td> <td>    0.721</td> <td>   -1.308</td> <td> 0.191</td> <td>   -2.355</td> <td>    0.470</td>\n",
       "</tr>\n",
       "<tr>\n",
       "  <th>ar.S.L24</th> <td>    0.0854</td> <td>    0.418</td> <td>    0.205</td> <td> 0.838</td> <td>   -0.733</td> <td>    0.904</td>\n",
       "</tr>\n",
       "<tr>\n",
       "  <th>ar.S.L36</th> <td>    0.0189</td> <td>    0.305</td> <td>    0.062</td> <td> 0.950</td> <td>   -0.579</td> <td>    0.617</td>\n",
       "</tr>\n",
       "<tr>\n",
       "  <th>ar.S.L48</th> <td>   -0.0792</td> <td>    0.141</td> <td>   -0.562</td> <td> 0.574</td> <td>   -0.356</td> <td>    0.197</td>\n",
       "</tr>\n",
       "<tr>\n",
       "  <th>ma.S.L12</th> <td>    0.2270</td> <td>    0.765</td> <td>    0.297</td> <td> 0.767</td> <td>   -1.272</td> <td>    1.726</td>\n",
       "</tr>\n",
       "<tr>\n",
       "  <th>ma.S.L24</th> <td>   -0.6850</td> <td>    0.665</td> <td>   -1.029</td> <td> 0.303</td> <td>   -1.989</td> <td>    0.619</td>\n",
       "</tr>\n",
       "<tr>\n",
       "  <th>sigma2</th>   <td>  370.2105</td> <td>   49.601</td> <td>    7.464</td> <td> 0.000</td> <td>  272.995</td> <td>  467.426</td>\n",
       "</tr>\n",
       "</table>\n",
       "<table class=\"simpletable\">\n",
       "<tr>\n",
       "  <th>Ljung-Box (L1) (Q):</th>     <td>0.00</td> <th>  Jarque-Bera (JB):  </th> <td>107.30</td>\n",
       "</tr>\n",
       "<tr>\n",
       "  <th>Prob(Q):</th>                <td>0.94</td> <th>  Prob(JB):          </th>  <td>0.00</td> \n",
       "</tr>\n",
       "<tr>\n",
       "  <th>Heteroskedasticity (H):</th> <td>0.29</td> <th>  Skew:              </th>  <td>0.27</td> \n",
       "</tr>\n",
       "<tr>\n",
       "  <th>Prob(H) (two-sided):</th>    <td>0.00</td> <th>  Kurtosis:          </th>  <td>6.83</td> \n",
       "</tr>\n",
       "</table><br/><br/>Warnings:<br/>[1] Covariance matrix calculated using the outer product of gradients (complex-step)."
      ],
      "text/plain": [
       "<class 'statsmodels.iolib.summary.Summary'>\n",
       "\"\"\"\n",
       "                                     SARIMAX Results                                      \n",
       "==========================================================================================\n",
       "Dep. Variable:                    rose difference   No. Observations:                  185\n",
       "Model:             SARIMAX(4, 1, 2)x(4, 1, 2, 12)   Log Likelihood                -768.600\n",
       "Date:                            Sun, 30 Jul 2023   AIC                           1563.201\n",
       "Time:                                    20:19:33   BIC                           1604.118\n",
       "Sample:                                         0   HQIC                          1579.802\n",
       "                                            - 185                                         \n",
       "Covariance Type:                              opg                                         \n",
       "==============================================================================\n",
       "                 coef    std err          z      P>|z|      [0.025      0.975]\n",
       "------------------------------------------------------------------------------\n",
       "ar.L1          0.1339      0.124      1.082      0.279      -0.109       0.376\n",
       "ar.L2         -0.2817      0.097     -2.911      0.004      -0.471      -0.092\n",
       "ar.L3          0.0620      0.108      0.575      0.566      -0.150       0.274\n",
       "ar.L4         -0.0921      0.100     -0.921      0.357      -0.288       0.104\n",
       "ma.L1         -1.8217      0.113    -16.129      0.000      -2.043      -1.600\n",
       "ma.L2          0.8261      0.110      7.501      0.000       0.610       1.042\n",
       "ar.S.L12      -0.9425      0.721     -1.308      0.191      -2.355       0.470\n",
       "ar.S.L24       0.0854      0.418      0.205      0.838      -0.733       0.904\n",
       "ar.S.L36       0.0189      0.305      0.062      0.950      -0.579       0.617\n",
       "ar.S.L48      -0.0792      0.141     -0.562      0.574      -0.356       0.197\n",
       "ma.S.L12       0.2270      0.765      0.297      0.767      -1.272       1.726\n",
       "ma.S.L24      -0.6850      0.665     -1.029      0.303      -1.989       0.619\n",
       "sigma2       370.2105     49.601      7.464      0.000     272.995     467.426\n",
       "===================================================================================\n",
       "Ljung-Box (L1) (Q):                   0.00   Jarque-Bera (JB):               107.30\n",
       "Prob(Q):                              0.94   Prob(JB):                         0.00\n",
       "Heteroskedasticity (H):               0.29   Skew:                             0.27\n",
       "Prob(H) (two-sided):                  0.00   Kurtosis:                         6.83\n",
       "===================================================================================\n",
       "\n",
       "Warnings:\n",
       "[1] Covariance matrix calculated using the outer product of gradients (complex-step).\n",
       "\"\"\""
      ]
     },
     "execution_count": 73,
     "metadata": {},
     "output_type": "execute_result"
    }
   ],
   "source": [
    "model_SARIMA_fit.summary()"
   ]
  },
  {
   "cell_type": "code",
   "execution_count": 74,
   "id": "2b751a6d",
   "metadata": {},
   "outputs": [
    {
     "name": "stdout",
     "output_type": "stream",
     "text": [
      "1991-01-01 00:00:00\n",
      "1995-03-01 00:00:00\n"
     ]
    }
   ],
   "source": [
    "##prediction\n",
    "pred_start_date=test_data.index[0]\n",
    "pred_end_date=test_data.index[-1]\n",
    "print(pred_start_date)\n",
    "print(pred_end_date)"
   ]
  },
  {
   "cell_type": "code",
   "execution_count": 75,
   "id": "da3cbf97",
   "metadata": {},
   "outputs": [],
   "source": [
    "pred_Sarima=model_SARIMA_fit.predict(start=datetime(1991,1,1),end=datetime(1995,3,1))\n",
    "residuals=test_data['rose difference']-pred_Sarima"
   ]
  },
  {
   "cell_type": "code",
   "execution_count": 76,
   "id": "ff34dd27",
   "metadata": {},
   "outputs": [
    {
     "name": "stderr",
     "output_type": "stream",
     "text": [
      "C:\\Users\\Nitin Rathore\\AppData\\Local\\Temp\\ipykernel_5568\\1367177785.py:1: SettingWithCopyWarning: \n",
      "A value is trying to be set on a copy of a slice from a DataFrame.\n",
      "Try using .loc[row_indexer,col_indexer] = value instead\n",
      "\n",
      "See the caveats in the documentation: https://pandas.pydata.org/pandas-docs/stable/user_guide/indexing.html#returning-a-view-versus-a-copy\n",
      "  test_data['Predicted_SARIMA']=pred_Sarima\n"
     ]
    }
   ],
   "source": [
    "test_data['Predicted_SARIMA']=pred_Sarima"
   ]
  },
  {
   "cell_type": "code",
   "execution_count": 77,
   "id": "410dcf55",
   "metadata": {
    "scrolled": true
   },
   "outputs": [
    {
     "data": {
      "text/plain": [
       "<AxesSubplot:xlabel='YearMonth'>"
      ]
     },
     "execution_count": 77,
     "metadata": {},
     "output_type": "execute_result"
    },
    {
     "data": {
      "image/png": "[encoded data removed]",
      "text/plain": [
       "<Figure size 640x480 with 1 Axes>"
      ]
     },
     "metadata": {},
     "output_type": "display_data"
    }
   ],
   "source": [
    "test_data[['rose difference','Predicted_SARIMA','Predicted_ARIMA']].plot()"
   ]
  },
  {
   "cell_type": "code",
   "execution_count": 78,
   "id": "d5247402",
   "metadata": {},
   "outputs": [
    {
     "data": {
      "text/plain": [
       "rose difference    -1.775510\n",
       "Predicted_SARIMA   -1.697834\n",
       "Predicted_ARIMA     0.156053\n",
       "dtype: float64"
      ]
     },
     "execution_count": 78,
     "metadata": {},
     "output_type": "execute_result"
    }
   ],
   "source": [
    "# Compute the root mean square error\n",
    "test_data[['rose difference','Predicted_SARIMA','Predicted_ARIMA']].mean()"
   ]
  },
  {
   "cell_type": "code",
   "execution_count": 79,
   "id": "68025391",
   "metadata": {},
   "outputs": [],
   "source": [
    "from sklearn.metrics import mean_squared_error\n",
    "from math import sqrt"
   ]
  },
  {
   "cell_type": "code",
   "execution_count": 80,
   "id": "da8b89c1",
   "metadata": {},
   "outputs": [
    {
     "name": "stdout",
     "output_type": "stream",
     "text": [
      "18.432381053752028\n"
     ]
    }
   ],
   "source": [
    "rmse = sqrt(mean_squared_error(pred,test_data['rose difference']))\n",
    "print(rmse)"
   ]
  },
  {
   "cell_type": "code",
   "execution_count": 81,
   "id": "1f65c61d",
   "metadata": {},
   "outputs": [
    {
     "name": "stdout",
     "output_type": "stream",
     "text": [
      "21.330329127087015\n"
     ]
    }
   ],
   "source": [
    "rmse = sqrt(mean_squared_error(pred,test_data['Predicted_SARIMA']))\n",
    "print(rmse)"
   ]
  },
  {
   "cell_type": "code",
   "execution_count": 82,
   "id": "77f95322",
   "metadata": {},
   "outputs": [
    {
     "name": "stdout",
     "output_type": "stream",
     "text": [
      "0.0\n"
     ]
    }
   ],
   "source": [
    "rmse = sqrt(mean_squared_error(pred,test_data['Predicted_ARIMA']))\n",
    "print(rmse)"
   ]
  },
  {
   "cell_type": "code",
   "execution_count": null,
   "id": "05214e85",
   "metadata": {},
   "outputs": [],
   "source": []
  },
  {
   "cell_type": "code",
   "execution_count": null,
   "id": "ca55435a",
   "metadata": {},
   "outputs": [],
   "source": []
  },
  {
   "cell_type": "code",
   "execution_count": null,
   "id": "03c1a746",
   "metadata": {},
   "outputs": [],
   "source": []
  },
  {
   "cell_type": "code",
   "execution_count": null,
   "id": "638fea6d",
   "metadata": {},
   "outputs": [],
   "source": []
  },
  {
   "cell_type": "code",
   "execution_count": null,
   "id": "50f68a4c",
   "metadata": {},
   "outputs": [],
   "source": []
  }
 ],
 "metadata": {
  "kernelspec": {
   "display_name": "Python 3 (ipykernel)",
   "language": "python",
   "name": "python3"
  },
  "language_info": {
   "codemirror_mode": {
    "name": "ipython",
    "version": 3
   },
   "file_extension": ".py",
   "mimetype": "text/x-python",
   "name": "python",
   "nbconvert_exporter": "python",
   "pygments_lexer": "ipython3",
   "version": "3.9.13"
  }
 },
 "nbformat": 4,
 "nbformat_minor": 5
}
